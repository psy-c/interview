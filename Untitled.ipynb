{
  "metadata": {
    "kernelspec": {
      "name": "python",
      "display_name": "Python (Pyodide)",
      "language": "python"
    },
    "language_info": {
      "codemirror_mode": {
        "name": "python",
        "version": 3
      },
      "file_extension": ".py",
      "mimetype": "text/x-python",
      "name": "python",
      "nbconvert_exporter": "python",
      "pygments_lexer": "ipython3",
      "version": "3.8"
    }
  },
  "nbformat_minor": 4,
  "nbformat": 4,
  "cells": [
    {
      "cell_type": "markdown",
      "source": "",
      "metadata": {}
    },
    {
      "cell_type": "markdown",
      "source": "• In the box below, please demonstrate generating (using a comprehension or any other\nmethod) a dictionary with entries of the form x: x^(1/2), one for each of the odd\nintegers between 1 and 19, inclusive. To run the cell, you can press Shift+Enter.",
      "metadata": {}
    },
    {
      "cell_type": "code",
      "source": "",
      "metadata": {
        "trusted": true
      },
      "outputs": [],
      "execution_count": null
    },
    {
      "cell_type": "markdown",
      "source": "• Suppose a health center uses ten-digit record numbers to identify patients.\nDozens of employees are able to look up a patient's full name by their record number. The entire\nteam is trained and trustworthy. An attacker, though, could one day take\nadvantage of an unknown vulnerability of one of the employees' computers and compromise it.\n\nNow, suppose you need to prepare a health data set for a researcher by\nreplacing a column of record numbers with hashes of the record numbers. The research data set will have no identifier other than the hash. Assume\nthis \"anonymized\" data set could one day appear in a data breach. A hash generated for a record number today should be identical to a hash generated for the same record number years from now, so that the researcher can keep track of a patient's health over time and see which rows of the data set belong to the same patient. At the same time, it should not be easy for an attacker to map a hash back to the record number by knowing the name of of the hash function alone. For the purpose of generating the hash identifiers in a way that reasonably\nprotects the patients' privacy, please revise the code below. You may use any\nresource, including Copilot.",
      "metadata": {}
    },
    {
      "cell_type": "code",
      "source": "from zlib import crc32\n\ndef id_number_hash(id_number: int):\n    \"\"\"Takes a number and simply hashes it\"\"\"\n    id_number_bytes = id_number.to_bytes(length=5, byteorder='big')\n    return crc32(id_number_bytes) # CRC-32 is a checksum, also a hash function.",
      "metadata": {
        "trusted": true
      },
      "outputs": [],
      "execution_count": null
    },
    {
      "cell_type": "code",
      "source": "",
      "metadata": {
        "trusted": true
      },
      "outputs": [],
      "execution_count": null
    }
  ]
}